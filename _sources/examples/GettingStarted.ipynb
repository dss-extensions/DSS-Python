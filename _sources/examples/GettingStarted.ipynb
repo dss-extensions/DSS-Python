{
 "cells": [
  {
   "cell_type": "markdown",
   "metadata": {},
   "source": [
    "# Getting Started"
   ]
  },
  {
   "cell_type": "markdown",
   "metadata": {},
   "source": [
    "This document provides an overview of some of DSS-Python's features, especially for new users.\n",
    "\n",
    "There are other documents for specific features, and a lot of other features still need documentation for new users."
   ]
  },
  {
   "cell_type": "markdown",
   "metadata": {},
   "source": [
    "**Notebook requirements**\n",
    "\n",
    "This is a Jupyter notebook. Running it as-is will try to download the required files.\n",
    "\n",
    "You can open and then run this notebook on Google Colab for a quick overview if you don't want to set up a local environment: **[Open in Colab](https://colab.research.google.com/github/dss-extensions/dss_python/blob/master/docs/examples/GettingStarted.ipynb)**."
   ]
  },
  {
   "cell_type": "code",
   "execution_count": null,
   "metadata": {},
   "outputs": [],
   "source": [
    "# When running via Colab, install the package first\n",
    "import os, subprocess\n",
    "if os.getenv(\"COLAB_RELEASE_TAG\"):\n",
    "    print(subprocess.check_output('pip install dss-python[all]', shell=True).decode())"
   ]
  },
  {
   "cell_type": "code",
   "execution_count": null,
   "metadata": {},
   "outputs": [],
   "source": [
    "# Download the sample circuits and test cases if they do not exist already\n",
    "from dss.examples import download_repo_snapshot\n",
    "IEEE13_PATH = download_repo_snapshot('.', repo_name='electricdss-tst', use_version=False) / 'Version8/Distrib/IEEETestCases/13Bus/IEEE13Nodeckt.dss'\n",
    "assert IEEE13_PATH.exists()"
   ]
  },
  {
   "cell_type": "markdown",
   "metadata": {},
   "source": [
    "If you are reading this notebook online and would like to run in your local Python installation, you can download both the DSS-Python repository (which contains this notebook) and the sample circuits with `download_examples`.\n",
    "\n",
    "On Windows, run on a command prompt in your Python environment to install all optional dependencies:\n",
    "\n",
    "```batch\n",
    "pip install dss-python[all]\n",
    "python -c \"from dss.examples import download_examples; download_examples(r'c:\\temp')\"\n",
    "cd c:\\temp\\dss_python\\docs\\examples\n",
    "jupyter lab\n",
    "```\n"
   ]
  },
  {
   "attachments": {},
   "cell_type": "markdown",
   "metadata": {},
   "source": [
    "## Introduction\n",
    "\n",
    "`DSS-Python` is an effort in the [DSS-Extensions](https://dss-extensions.org/) project. As such, it doesn't require EPRI's OpenDSS to be installed. It provides its own customized engine, which in turn enables us to run the DSS engine on Windows, Linux and macOS (including newer Apple ARM processors, a.k.a. \"Apple Silicon\")."
   ]
  },
  {
   "attachments": {},
   "cell_type": "markdown",
   "metadata": {},
   "source": [
    "For a comparison of the general Python-level API, including a list of our extra functions, please check [DSS-Extensions — OpenDSS: Overview of Python APIs](https://github.com/dss-extensions/dss-extensions/blob/main/docs/python_apis.md). That documents introduces and compares DSS-Python, OpenDSSDirect.py, and the official COM implementation."
   ]
  },
  {
   "attachments": {},
   "cell_type": "markdown",
   "metadata": {},
   "source": [
    "To use `DSS-Python`, after installation, open a Python interpreter and type the following command:"
   ]
  },
  {
   "cell_type": "code",
   "execution_count": null,
   "metadata": {
    "collapsed": true
   },
   "outputs": [],
   "source": [
    "from dss import dss"
   ]
  },
  {
   "cell_type": "markdown",
   "metadata": {},
   "source": [
    "The package exposes the lower level API functions from AltDSS/DSS C-API mimicking the organization and behavior of the official COM implementation, as used in Python. This allows an easier migration, or even toggling which interface is used if the user avoids using API Extensions (which are marked as such in the documentation)."
   ]
  },
  {
   "cell_type": "markdown",
   "metadata": {},
   "source": [
    "To keep the code compatible with the COM implementation, users can feed commands through the text interface:"
   ]
  },
  {
   "cell_type": "code",
   "execution_count": null,
   "metadata": {
    "collapsed": true
   },
   "outputs": [],
   "source": [
    "dss.Text.Command = f'Redirect \"{IEEE13_PATH}\"'"
   ]
  },
  {
   "cell_type": "markdown",
   "metadata": {},
   "source": [
    "Alternatively, if there is no need to maintain this compatibility, there is a shortcut function that allows both single commands and multiple commands (passed through multiline strings):"
   ]
  },
  {
   "cell_type": "code",
   "execution_count": null,
   "metadata": {},
   "outputs": [],
   "source": [
    "dss(f'Redirect \"{IEEE13_PATH}\"')"
   ]
  },
  {
   "cell_type": "markdown",
   "metadata": {},
   "source": [
    "After a DSS circuit is loaded, the interaction can be done as with the official COM module:"
   ]
  },
  {
   "cell_type": "code",
   "execution_count": null,
   "metadata": {},
   "outputs": [],
   "source": [
    "dssCircuit = dss.ActiveCircuit\n",
    "dssCircuit.AllBusNames"
   ]
  },
  {
   "cell_type": "code",
   "execution_count": null,
   "metadata": {},
   "outputs": [],
   "source": [
    "dssLoads = dssCircuit.Loads\n",
    "idx = dssLoads.First\n",
    "\n",
    "while idx:\n",
    "    print(dssLoads.Name)\n",
    "    idx = dssLoads.Next\n",
    "\n",
    "print(f'We have {dssLoads.Count} loads in this circuit')"
   ]
  },
  {
   "cell_type": "markdown",
   "metadata": {},
   "source": [
    "You can also use more Pythonic iteration. General OpenDSS caveats related to the classic OpenDSS API, which only allows one active object for each class, still apply."
   ]
  },
  {
   "cell_type": "code",
   "execution_count": null,
   "metadata": {},
   "outputs": [],
   "source": [
    "for load in dssLoads:\n",
    "    print(load.Name)\n",
    "\n",
    "print(f'We have {len(dssLoads)} loads in this circuit')"
   ]
  },
  {
   "cell_type": "markdown",
   "metadata": {},
   "source": [
    "## Use the enums\n",
    "\n",
    "Instead of using magic numbers like in `dss.ActiveCircuit.Solution.Mode = 1`, use the enums. Import the whole `enums` module, or separate enums you use. You can import the enums from the `dss` for short:"
   ]
  },
  {
   "cell_type": "code",
   "execution_count": null,
   "metadata": {},
   "outputs": [],
   "source": [
    "from dss.enums import SolveModes\n",
    "dss.ActiveCircuit.Solution.Mode = SolveModes.Daily\n",
    "\n",
    "from dss import SolveModes\n",
    "dss.ActiveCircuit.Solution.Mode = SolveModes.Daily"
   ]
  },
  {
   "cell_type": "markdown",
   "metadata": {},
   "source": [
    "Using magic numbers is bad for multiple reasons:\n",
    "\n",
    "- Harder to read for other users. Each user has to each memorize every value or constantly check the reference.\n",
    "- The values can actually change throughout the releases. It already happened in the past in OpenDSS and some bugs persistent for about 15 years!\n",
    "- Using the provided enum classes ensure, in most cases, that you are passing a valid value. Currently, DSS-Python or most Python APIs for OpenDSS do not enforce or check the values, so using the correct enum can reduce the chance of accidents.\n",
    "\n",
    "See the list of enumerations, including important comments, in [dss.enums](https://dss-extensions.org/dss_python/enumerations.html) page."
   ]
  },
  {
   "cell_type": "markdown",
   "metadata": {},
   "source": [
    "## Migrating from the COM implementation\n",
    "\n",
    "A lot of users start using OpenDSS using the COM implementation, which is the official OpenDSS version, limited to Windows as of February 2024.\n",
    "\n",
    "That is fine and could even be the recommended path. Later, users can either migrate or toggle which version is used. Using DSS-Python should make that easier, since it is API-compatible with the COM implementation (but does not use COM at all). Users could include code that use OpenDSSDirect.py or AltDSS-Python to complement aspect that the COM-like approach is not sufficient.\n",
    "\n",
    "For example, suppose you had the following code running in the official OpenDSS via COM, using `win32com` or `comtypes` (Windows only, etc.):\n",
    "\n",
    "```python\n",
    "# Load OpenDSS\n",
    "import win32com.client\n",
    "dss = win32com.client.Dispatch('OpenDSSengine.DSS')\n",
    "\n",
    "# ...or for win32com with ensured early bindings:\n",
    "# import win32com.client\n",
    "# dss = win32com.client.gencache.EnsureDispatch('OpenDSSengine.DSS')\n",
    "\n",
    "# ...or:\n",
    "# import comtypes.client\n",
    "# dss = comtypes.client.CreateObject('OpenDSSengine.DSS')\n",
    "\n",
    "# Run a DSS script to load a circuit\n",
    "# (NOTE: typically you would use either the full path here since the official OpenDSS implementation changes the current working directory of the process)\n",
    "dss.Text.Command = f'Redirect \"{IEEE13_PATH}\"'\n",
    "\n",
    "# Select a load and update its kW\n",
    "dss.ActiveCircuit.Loads.Name = \"675c\"\n",
    "dss.ActiveCircuit.Loads.kW = 320\n",
    "\n",
    "# Solve\n",
    "dss.ActiveCircuit.Solution.Solve()\n",
    "\n",
    "# Get the voltage magnitudes\n",
    "voltages = dss.ActiveCircuit.AllBusVmag\n",
    "```"
   ]
  },
  {
   "cell_type": "markdown",
   "metadata": {},
   "source": [
    "You could use DSS-Python to keep the code with a few changes."
   ]
  },
  {
   "cell_type": "code",
   "execution_count": null,
   "metadata": {},
   "outputs": [],
   "source": [
    "# Load DSS-Python\n",
    "from dss import dss\n",
    "\n",
    "# Run a DSS script to load a circuit\n",
    "# (DSS-Extensions do not change the CWD when importing, relative paths are fine)\n",
    "dss.Text.Command = f'Redirect \"{IEEE13_PATH}\"'\n",
    "\n",
    "# Select a load and update its kW\n",
    "dss.ActiveCircuit.Loads.Name = \"675c\"\n",
    "dss.ActiveCircuit.Loads.kW = 320\n",
    "\n",
    "# Solve\n",
    "dss.ActiveCircuit.Solution.Solve()\n",
    "\n",
    "# Get the voltage magnitudes\n",
    "voltages = dss.ActiveCircuit.AllBusVmag"
   ]
  },
  {
   "cell_type": "markdown",
   "metadata": {},
   "source": [
    "Only the first lines of the original code were changed."
   ]
  },
  {
   "cell_type": "markdown",
   "metadata": {},
   "source": [
    "### Capitalization\n",
    "\n",
    "Sometimes, users are not aware of early bindings and the attribute lookup on `win32com` becomes case-insensitive.\n",
    "\n",
    "To make it easier to migrate in those situations, DSS-Python includes a special setup that makes if case-insensitive, with the extra option to allow it to warn when the name capitalization does not match the expected, [set_case_insensitive_attributes](https://dss-extensions.org/dss_python/apidocs/dss/dss._cffi_api_util.html#dss._cffi_api_util.set_case_insensitive_attributes). \n",
    "\n",
    "Since `set_case_insensitive_attributes` has a small performance overhead, it is important to not overuse it. The warnings allow the user to track and fix capitalization issues, and finally remove the use of `set_case_insensitive_attributes` when no more warnings remain."
   ]
  },
  {
   "cell_type": "code",
   "execution_count": null,
   "metadata": {},
   "outputs": [],
   "source": [
    "from dss import set_case_insensitive_attributes\n",
    "\n",
    "set_case_insensitive_attributes(use=True, warn=True)\n",
    "\n",
    "print(dss.activecircuit.Loads.kW) # this produces a warning\n",
    "print(dss.ActiveCircuit.Loads.kvar) # this one works fine since the capitalization is correct"
   ]
  },
  {
   "cell_type": "markdown",
   "metadata": {},
   "source": [
    "### Bringing some Python back to the COM version\n",
    "\n",
    "Sometimes keeping compatibility with both implementations (DSS-Extensions and EPRI) is useful or even required. Users can be spoiled by some simple quality of life improvements from DSS-Python, like the iterators.\n",
    "\n",
    "To make things easier, DSS-Python provides a function, `patch_dss_com`, to patch the COM classes with some extras. This function does not change any aspect of the official OpenDSS engine, it just provides some Python functionality. It will, of course, require DSS-Python to be installed, but this will use the COM DLL and can be a quick way to try a script in both versions:\n",
    "\n",
    "```python\n",
    "import comtypes, dss\n",
    "dss_com = dss.patch_dss_com(comtypes.client.CreateObject(\"OpenDSSEngine.DSS\"))\n",
    "print(dss_com.Version)\n",
    "\n",
    "# ...compile a circuit, etc.\n",
    "\n",
    "for l in dss_com.ActiveCircuit.Loads:\n",
    "    print(l.Name, l.kva)\n",
    "\n",
    "for b in dss_com.ActiveCircuit.ActiveBus:\n",
    "    print(b.Name, b.x, b.y)\n",
    "```\n",
    "\n",
    "This works with both `comtypes` and `win32com`.\n",
    "\n",
    "There is a related effort to provide a lower level implementation to be shared across all DSS-Extensions. In the mean time, `patch_dss_com` can help."
   ]
  },
  {
   "cell_type": "markdown",
   "metadata": {},
   "source": [
    "## Better numeric types\n",
    "\n",
    "For backwards compatibility, including with the COM implementation, DSS-Python uses simple numeric types and arrays for results, float, int and 1d arrays.\n",
    "\n",
    "There is an toggle for `AdvancedTypes` that enable complex numbers and matrices:"
   ]
  },
  {
   "cell_type": "code",
   "execution_count": null,
   "metadata": {},
   "outputs": [],
   "source": [
    "# Setting numpy to avoid wrapping the text output\n",
    "import numpy as np\n",
    "np.set_printoptions(linewidth=200)\n"
   ]
  },
  {
   "cell_type": "code",
   "execution_count": null,
   "metadata": {},
   "outputs": [],
   "source": [
    "dss.AdvancedTypes = True\n",
    "\n",
    "dss.ActiveCircuit.AllBusVolts"
   ]
  },
  {
   "cell_type": "code",
   "execution_count": null,
   "metadata": {},
   "outputs": [],
   "source": [
    "dss.ActiveCircuit.Lines.idx = 6\n",
    "dss.ActiveCircuit.ActiveCktElement.Yprim"
   ]
  },
  {
   "cell_type": "markdown",
   "metadata": {},
   "source": [
    "There is a lot of code that doesn't expect this modern output, so it can be toggled as required:"
   ]
  },
  {
   "cell_type": "code",
   "execution_count": null,
   "metadata": {},
   "outputs": [],
   "source": [
    "dss.AdvancedTypes = False\n",
    "dss.ActiveCircuit.ActiveCktElement.Yprim"
   ]
  },
  {
   "cell_type": "markdown",
   "metadata": {},
   "source": [
    "## Multiple engines in the same process\n",
    "\n",
    "For a full example, visit [Multiple DSS engines, multithreading vs. multiprocessing](https://dss-extensions.org/dss_python/examples/Multithreading.html).\n",
    "\n",
    "A short example without multithreading:"
   ]
  },
  {
   "cell_type": "code",
   "execution_count": null,
   "metadata": {},
   "outputs": [],
   "source": [
    "from dss import dss\n",
    "import numpy as np\n",
    "dss.AllowChangeDir = False\n",
    "\n",
    "NUM_ENGINES = 5\n",
    "load_mults = np.linspace(0.8, 1.2, NUM_ENGINES)\n",
    "engines = [dss.NewContext() for _ in load_mults]\n",
    "\n",
    "for load_mult, engine in zip(load_mults, engines):\n",
    "    engine.Text.Command = f'Redirect \"{IEEE13_PATH}\"'\n",
    "    engine.ActiveCircuit.Solution.LoadMult = load_mult\n",
    "    engine.ActiveCircuit.Solution.Solve()\n",
    "\n",
    "for engine in engines:\n",
    "    lm = engine.ActiveCircuit.Solution.LoadMult\n",
    "    losses = engine.ActiveCircuit.Losses[0]\n",
    "    print(f'{lm:5.3} {losses:10.1f}')\n"
   ]
  },
  {
   "cell_type": "markdown",
   "metadata": {},
   "source": [
    "## Plotting and notebook integration\n",
    "\n",
    "For more examples on how to use the plot commands from OpenDSS, including an extensive gallery, see [Integrated plotting in Python](https://dss-extensions.org/dss_python/examples/Plotting.html).\n",
    "\n",
    "A short example:"
   ]
  },
  {
   "cell_type": "code",
   "execution_count": null,
   "metadata": {},
   "outputs": [],
   "source": [
    "from dss import dss, plot\n",
    "plot.enable()\n",
    "\n",
    "dss.Text.Command = f'Redirect \"{IEEE13_PATH}\"'\n",
    "dss.Text.Command = 'plot circuit'"
   ]
  },
  {
   "cell_type": "markdown",
   "metadata": {},
   "source": [
    "This enables the cell magic function and other enhancements. There is still a lot of room for improvement here."
   ]
  },
  {
   "cell_type": "code",
   "execution_count": null,
   "metadata": {},
   "outputs": [],
   "source": [
    "%%dss\n",
    "visualize voltages element=transformer.sub "
   ]
  },
  {
   "cell_type": "markdown",
   "metadata": {},
   "source": [
    "## JSON exports and imports\n",
    "\n",
    "Another on-going effort is support for JSON export and import: https://dss-extensions.org/dss_python/examples/JSON.html\n",
    "\n",
    "Some highlights:"
   ]
  },
  {
   "cell_type": "code",
   "execution_count": null,
   "metadata": {},
   "outputs": [],
   "source": [
    "import json\n",
    "from dss import dss\n",
    "import numpy as np\n",
    "\n",
    "dss(f'Redirect \"{IEEE13_PATH}\"')\n",
    "dss.ActiveCircuit.Loads.First;\n",
    "json.loads(dss.ActiveCircuit.ActiveDSSElement.ToJSON())"
   ]
  },
  {
   "cell_type": "code",
   "execution_count": null,
   "metadata": {},
   "outputs": [],
   "source": [
    "import pandas as pd\n",
    "dss.ActiveCircuit.SetActiveClass('load')\n",
    "df = pd.read_json(dss.ActiveCircuit.ActiveClass.ToJSON(), dtype_backend='pyarrow')\n",
    "df.dtypes"
   ]
  },
  {
   "cell_type": "code",
   "execution_count": null,
   "metadata": {},
   "outputs": [],
   "source": [
    "df"
   ]
  },
  {
   "cell_type": "markdown",
   "metadata": {},
   "source": [
    "## Integration with OpenDSSDirect.py and AltDSS-Python\n",
    "\n",
    "Assuming they are installed, there are two handy functions to map the DSS context to the other packages:"
   ]
  },
  {
   "cell_type": "code",
   "execution_count": null,
   "metadata": {},
   "outputs": [],
   "source": [
    "from dss import dss\n",
    "\n",
    "dss(f'Redirect \"{IEEE13_PATH}\"')"
   ]
  },
  {
   "cell_type": "code",
   "execution_count": null,
   "metadata": {},
   "outputs": [],
   "source": [
    "odd = dss.to_opendssdirect()\n",
    "print(odd.Version())\n",
    "print()\n",
    "alt = dss.to_altdss()\n",
    "print(alt.Version())"
   ]
  },
  {
   "cell_type": "code",
   "execution_count": null,
   "metadata": {},
   "outputs": [],
   "source": [
    "load = alt.Load[0]\n",
    "load, load.Powers(), load.to_json()"
   ]
  }
 ],
 "metadata": {
  "kernelspec": {
   "display_name": "base",
   "language": "python",
   "name": "python3"
  },
  "language_info": {
   "codemirror_mode": {
    "name": "ipython",
    "version": 3
   },
   "file_extension": ".py",
   "mimetype": "text/x-python",
   "name": "python",
   "nbconvert_exporter": "python",
   "pygments_lexer": "ipython3",
   "version": "3.11.4"
  }
 },
 "nbformat": 4,
 "nbformat_minor": 2
}
