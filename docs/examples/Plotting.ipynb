{
 "cells": [
  {
   "attachments": {},
   "cell_type": "markdown",
   "id": "ede6d6d2-58b0-4efa-89a9-b868897a2aa7",
   "metadata": {
    "tags": []
   },
   "source": [
    "# Integrated plotting in Python\n",
    "\n",
    "*Last major update: May, 2023*  \n",
    "*Original author: Paulo Meira*\n",
    "\n",
    "**Due to the high number of images, this notebook is stored in the Git repository without outputs.**\n",
    "\n",
    "You can open and then run this notebook on Google Colab for a quick overview if you don't want to set up a local environment: **[Open in Colab](https://colab.research.google.com/github/dss-extensions/dss_python/blob/master/docs/examples/Plotting.ipynb)**.\n",
    "\n",
    "**General preparation**\n",
    "\n",
    "- Install Python; we recommend using [miniforge from conda-forge](https://github.com/conda-forge/miniforge/) -- after installation, either create a dedicated environment or make sure the basics are installed (`conda install jupyterlab matplotlib-base ipympl scienceplots pandas`)\n",
    "- Install the DSS-Extensions (`python -m pip install dss-python[plot] opendssdirect.py`)\n",
    "- Run the following cells to download the sample DSS scripts"
   ]
  },
  {
   "cell_type": "code",
   "execution_count": null,
   "id": "50633534-4897-48b2-83fa-19c8e08d6a48",
   "metadata": {
    "tags": []
   },
   "outputs": [],
   "source": [
    "\n",
    "! git clone --depth=1 -q https://github.com/dss-extensions/electricdss-tst"
   ]
  },
  {
   "attachments": {},
   "cell_type": "markdown",
   "id": "ff162dff-dfe1-4a6e-acdd-687c1324171e",
   "metadata": {},
   "source": [
    "If you are running under Google Colab, running the following cell should install the packages."
   ]
  },
  {
   "cell_type": "code",
   "execution_count": null,
   "id": "c7a7a615-e043-4f7a-b3b2-591ff7b61da2",
   "metadata": {},
   "outputs": [],
   "source": [
    "import os, subprocess\n",
    "if os.getenv(\"COLAB_RELEASE_TAG\"):\n",
    "    print(subprocess.check_output('pip install dss-python[plot] opendssdirect.py[extras] ipympl scienceplots', shell=True).decode())"
   ]
  },
  {
   "cell_type": "code",
   "execution_count": null,
   "id": "61d60ded",
   "metadata": {},
   "outputs": [],
   "source": [
    "# Download the sample circuits and test cases \n",
    "from dss.examples import download_repo_snapshot\n",
    "IEEE13_PATH = download_repo_snapshot('.', repo_name='electricdss-tst', use_version=False) / 'Version8/Distrib/IEEETestCases/13Bus/IEEE13Nodeckt.dss'\n",
    "\n",
    "assert IEEE13_PATH.exists()\n",
    "\n",
    "print(\"Examples downloaded. IEEE13 file path:\", str(IEEE13_PATH))"
   ]
  },
  {
   "cell_type": "markdown",
   "id": "5cc3fb18",
   "metadata": {},
   "source": [
    "If the download of the sample fails, and if you have Git installed, try manually running inside the same folder this notebook is located:\n",
    "\n",
    "```shell\n",
    "git clone --depth=1 -q https://github.com/dss-extensions/electricdss-tst\n",
    "```\n",
    "\n",
    "Otherwise, download https://github.com/dss-extensions/electricdss-tst/archive/refs/heads/master.zip and extract the `electricdss-tst-master` folder in the same path as this notebook. Rename it to `electricdss-tst`."
   ]
  },
  {
   "attachments": {},
   "cell_type": "markdown",
   "id": "d68bb78a-064b-42e4-89cb-90bd298b77a2",
   "metadata": {
    "tags": []
   },
   "source": [
    "## Introduction\n",
    "\n",
    "DSS-Python and OpenDSSDirect.py can use the plotting extension to enable the plot commands as seen in the official OpenDSS through our **alternative implementation** (currently known as DSS C-API).\n",
    "\n",
    "The goal of this feature is to achieve similar results, but there is no intention of achieving pixel-perfect results, for various reasons.\n",
    "\n",
    "The implementation does not reuse the concept of creation [`.dsv` files on disk](https://sourceforge.net/p/electricdss/code/3706/tree/trunk/Version8/Distrib/Doc/Partial%20Key%20to%20DSV%20files.pdf), since we avoid creating files when possible. Still, for compatibility, some features do require creating other files.\n",
    "\n",
    "As seen in this notebook, many of the official OpenDSS examples work as-is, so you can further explore the OpenDSS documentation and examples for more.\n",
    "\n",
    "This plotting implementation was motivated by a few points:\n",
    "\n",
    "- Provide a better (and more complete) experience for users of DSS outside of Windows, especially Linux and macOS users, but also online environments such as Google Colaboratory and JupyterHub installations.\n",
    "- Allow running and reusing archived OpenDSS scripts as-is. This includes some of the official OpenDSS material from EPRI, archived code repositories and datasets from users in general (e.g. results from MSc and PhD works, papers).\n",
    "- Allow easier customization of plots. This is a commonly requested feature.\n",
    "\n",
    "**Known issues and limitations:**\n",
    "- The sizing of the markers may differ from the DSSView.exe; we will probably need a mapping function to address this.\n",
    "- Custom interactive/inspection is not implemented yet.\n",
    "- `plot evolution` and `plot energymeter` are not implemented. The command `di_plot`, which is implemented, already covers some similar functionality as `plot energymeter`.\n",
    "\n",
    "See also \"Future development\" below."
   ]
  },
  {
   "attachments": {},
   "cell_type": "markdown",
   "id": "f899e819-c16c-45e4-9059-d3ee7d207896",
   "metadata": {
    "tags": []
   },
   "source": [
    "## Enabling and using the plotting features\n",
    "\n",
    "To enable plotting, as of the May 2023, matplotlib and SciPy are required. If you don't have them installed, you can install DSS-Python with the optional features using `pip`:\n",
    "\n",
    "```shell\n",
    "python -m pip install dss-python[plot]\n",
    "```\n",
    "\n",
    "Note that you may prefer to install the third-party packages through conda/mamba if you are using a conda environment.\n",
    "\n",
    "Importing the plotting module (either `import dss.plot` or indirectly through the property `Plotting`) and enabling the features result in some side-effects.\n",
    "\n",
    "- Importing will register an IPython magic and some integration functions for file outputs.\n",
    "- Importing will set `AllowChangeDir` to false.\n",
    "- When plotting is enabled, `AllowForms` is set to true.\n",
    "\n",
    "There are two equivalent ways to enable plotting. The first is importing the submodule and calling the `enable()` function:"
   ]
  },
  {
   "cell_type": "code",
   "execution_count": null,
   "id": "ed535d9b-ba25-4c11-8ac5-d90dc5014112",
   "metadata": {
    "tags": []
   },
   "outputs": [],
   "source": [
    "from dss import plot\n",
    "plot.enable()"
   ]
  },
  {
   "attachments": {},
   "cell_type": "markdown",
   "id": "5c330d85-b445-4027-b29b-d4b55420694b",
   "metadata": {},
   "source": [
    "The second is calling enable from a DSS instance (from DSS-Python):"
   ]
  },
  {
   "cell_type": "code",
   "execution_count": null,
   "id": "472ead53-b10d-4297-b67c-54be7506bd70",
   "metadata": {
    "tags": []
   },
   "outputs": [],
   "source": [
    "from dss import dss\n",
    "dss.Plotting.enable()"
   ]
  },
  {
   "attachments": {},
   "cell_type": "markdown",
   "id": "8de28804-c360-47e4-9588-a9d51d4353a1",
   "metadata": {},
   "source": [
    "After enabling the features, a user can plot from the DSS-Python API, OpenDSSDirect.py API, or using the Jupyter cell magic. General matplotlib configuration applies; for example, custom figure sizes and fonts set in `matplotlibrc` are respected. Users can also add custom matplotlib items to complement the charts (see at the end of the Example Gallery).\n",
    "\n",
    "As a reminder, before enabling plots, all `plot ...` commands from DSS scripts are ignored under DSS-Extensions.\n",
    "\n",
    "There are a few optional arguments to the `enable` function that will be explored in the examples in this notebook:"
   ]
  },
  {
   "cell_type": "code",
   "execution_count": null,
   "id": "2624bf2f-9916-4dcb-9148-4b9de782d786",
   "metadata": {
    "tags": []
   },
   "outputs": [],
   "source": [
    "? dss.Plotting.enable"
   ]
  },
  {
   "attachments": {},
   "cell_type": "markdown",
   "id": "5c80d280-f058-4d9a-a1b6-53905250c5b3",
   "metadata": {},
   "source": [
    "Finally, if you need to disable the plotting system, there is a `disable()` function available."
   ]
  },
  {
   "attachments": {},
   "cell_type": "markdown",
   "id": "80d4d363-746c-44d8-8825-7fc5ef5185fa",
   "metadata": {
    "tags": []
   },
   "source": [
    "### Example using only DSS-Python"
   ]
  },
  {
   "cell_type": "code",
   "execution_count": null,
   "id": "c483557f-e941-493e-8094-28089905b0dc",
   "metadata": {
    "tags": []
   },
   "outputs": [],
   "source": [
    "from dss import dss\n",
    "dss.Plotting.enable()\n",
    "dss.Text.Command = 'redirect ./electricdss-tst/Version8/Distrib/EPRITestCircuits/ckt5/Master_ckt5.dss'\n",
    "dss.ActiveCircuit.Solution.Solve()\n",
    "dss.Text.Command = 'plot circuit powers'\n",
    "\n",
    "# The shorthand version would also work fine\n",
    "# dss('plot circuit powers')"
   ]
  },
  {
   "attachments": {},
   "cell_type": "markdown",
   "id": "04fb2db6-2d87-4427-a825-0dc635fbd52d",
   "metadata": {
    "tags": []
   },
   "source": [
    "### Example using OpenDSSDirect.py\n",
    "\n",
    "Remember that OpenDSSDirect.py shares the same backend as DSS-Python, so whenever you install OpenDSSDirect.py, you also install DSS-Python."
   ]
  },
  {
   "cell_type": "code",
   "execution_count": null,
   "id": "3d93046c-0174-4f0a-83c7-39878667192c",
   "metadata": {
    "tags": []
   },
   "outputs": [],
   "source": [
    "import dss.plot\n",
    "import opendssdirect as odd\n",
    "dss.plot.enable()\n",
    "odd.Text.Command('redirect ./electricdss-tst/Version8/Distrib/EPRITestCircuits/ckt5/Master_ckt5.dss')\n",
    "odd.Solution.Solve()\n",
    "odd.Text.Command('plot circuit powers')"
   ]
  },
  {
   "attachments": {},
   "cell_type": "markdown",
   "id": "edc12ad5-6a72-4198-af4c-e2e0220e02ad",
   "metadata": {
    "jp-MarkdownHeadingCollapsed": true,
    "tags": []
   },
   "source": [
    "## Jupyter, IPython integration and more\n",
    "\n",
    "Importing our plotting module on a IPython environment tries to register the `%%dss` cell magic. This was tested specifically for JupyterLab, but most of it works fine with Google Colaboratory.\n",
    "\n",
    "With the cell magic, users can write DSS code directly. Unfortunately, the syntax highlighting is not yet specific to the DSS language.\n",
    "\n",
    "```ipython\n",
    "%%dss\n",
    "\n",
    "redirect somefile.dss\n",
    "```\n",
    "\n",
    "IDEs such as Spyder should work but the text file output is not integrated (yet?). You can use `%%dss` in the IPython console inside Spyder, for example, and plots will be added to the \"Plots\" pane.\n",
    "Visual Studio Code is also a great environment for notebooks.\n",
    "\n",
    "Since we use matplotlib, users can optionally configure the plotting backend to use SVG (vector files) instead of PNG bitmaps:\n",
    "\n",
    "```ipython\n",
    "%config InlineBackend.figure_format = 'svg'\n",
    "```\n",
    "\n",
    "Or increase the output resolution for high DPI displays:\n",
    "\n",
    "```ipython\n",
    "%config InlineBackend.figure_format = 'retina'\n",
    "```\n",
    "\n",
    "*Sidenote: \"Retina\" is the marketing term used by Apple for high DPI displays. High DPI displays are in no way exclusive to Apple hardware, **you can use this toggle for any 4K screen**, etc.*\n",
    "\n",
    "To adjust sizes, panning and so on, one of the interactive matplotlib backends could be useful. See for example [`ipympl`] at https://matplotlib.org/ipympl/. Note that for local Jupyter installations, using a desktop backend usually works fine too, e.g. `%matplotlib tk` or `%matplotlib qt` works on Linux if the dependencies are installed.\n",
    "\n",
    "## Future development\n",
    "\n",
    "Initially, only a matplotlib backend is implemented. The matplotlib package was targeted due to its popularity, versatility and quantility of the results.\n",
    "\n",
    "There are plans to provide alternative plotting backends someday. For example, Plotly, Bokeh and eCharts are some candidates. A Python level API will also be exposed.\n",
    "\n",
    "We hope to implement syntax highlighting too. This will be investigated for JupyterLab 4.0. A Jupyter kernel for running pure DSS scripts could be developed to go along.\n",
    "\n",
    "As the features mature, some of them may move to the package \"AltDSS\" (work-in-progress), which will provide a modern interface to our alternative DSS engine and also some niceties for the official OpenDSS engine.\n",
    "\n",
    "Besides a few missing plots, some of the implementation ones can be polished in a future release, either by default or by toggling an option. Colormaps and colorbars are one example we should use instead of the manual colormapping in general data plots, etc.\n",
    "\n",
    "Reading a plot from `.dsv` files created by the official OpenDSS could also be added. Using our full plotting backend with the official OpenDSS is not possible, but we could expose an user-friendly API to reuse our code with the official COM implementation."
   ]
  },
  {
   "attachments": {},
   "cell_type": "markdown",
   "id": "d22b3e1c-8155-41a0-9fda-e8f62ce5c3b7",
   "metadata": {},
   "source": [
    "## Example gallery\n",
    "\n",
    "Let's first enable and check the versions:"
   ]
  },
  {
   "cell_type": "code",
   "execution_count": null,
   "id": "c0d5478b-4cdc-431c-bc9c-6704fcaa6265",
   "metadata": {
    "tags": []
   },
   "outputs": [],
   "source": [
    "from dss import dss\n",
    "dss.Plotting.enable()\n",
    "print(dss.Version)"
   ]
  },
  {
   "attachments": {},
   "cell_type": "markdown",
   "id": "e132fb2f-e203-42ed-babf-1732aa78d466",
   "metadata": {
    "tags": []
   },
   "source": [
    "### `Visualize` command"
   ]
  },
  {
   "cell_type": "code",
   "execution_count": null,
   "id": "daaa3902-ed01-4a38-b727-fde0ed0b1724",
   "metadata": {
    "tags": []
   },
   "outputs": [],
   "source": [
    "# Load and solve the IEEE13 test case\n",
    "dss.Text.Command = 'redirect electricdss-tst/Version8/Distrib/IEEETestCases/13Bus/IEEE13Nodeckt.dss'\n",
    "dss.ActiveCircuit.Solution.Solve()"
   ]
  },
  {
   "cell_type": "code",
   "execution_count": null,
   "id": "17569dec-f585-4250-a7ed-a5a3f08c591e",
   "metadata": {
    "tags": []
   },
   "outputs": [],
   "source": [
    "%%dss\n",
    "visualize powers Transformer.xfm1\n",
    "visualize currents Transformer.xfm1\n",
    "visualize voltages Transformer.xfm1"
   ]
  },
  {
   "attachments": {},
   "cell_type": "markdown",
   "id": "a1b47acb-64bb-4289-a189-c04b7a1c6e9d",
   "metadata": {
    "tags": []
   },
   "source": [
    "### Circuit plots\n",
    "\n",
    "Circuit plots have many variations and can be customized to add markers for the different elements and buses."
   ]
  },
  {
   "cell_type": "code",
   "execution_count": null,
   "id": "c582e176-c095-4029-99f9-4ef4b1ee67dc",
   "metadata": {
    "tags": []
   },
   "outputs": [],
   "source": [
    "%%dss\n",
    "plot circuit labels=y"
   ]
  },
  {
   "cell_type": "code",
   "execution_count": null,
   "id": "79c539f3-c7f9-48d6-865d-3a72ffd0fda7",
   "metadata": {
    "tags": []
   },
   "outputs": [],
   "source": [
    "%%dss\n",
    "redirect electricdss-tst/Version8/Distrib/EPRITestCircuits/ckt5/Master_ckt5.dss\n",
    "set loadmult=1.5\n",
    "solve\n",
    "plot circuit voltage dots=n labels=n\n",
    "rotate -90\n",
    "plot circuit voltage dots=y labels=n\n",
    "set marktransformers=y\n",
    "plot circuit voltage dots=n labels=n\n",
    "set marktransformers=n"
   ]
  },
  {
   "cell_type": "code",
   "execution_count": null,
   "id": "824deb0a-e948-4fd5-b9c6-e2a85b999636",
   "metadata": {
    "tags": []
   },
   "outputs": [],
   "source": [
    "%%dss\n",
    "Plot Circuit Losses 1phlinestyle=1 3phlinestyle=1 max=30\n",
    "Plot Circuit Losses 1phlinestyle=2 3phlinestyle=1 max=100 c1=$0a0a0a\n",
    "Plot Circuit Currents"
   ]
  },
  {
   "attachments": {},
   "cell_type": "markdown",
   "id": "0f278947-010f-45fd-81e0-c98cba46c0d3",
   "metadata": {},
   "source": [
    "`plot scatter` is one of the plot styles that would require OpenDSS Viewer:"
   ]
  },
  {
   "cell_type": "code",
   "execution_count": null,
   "id": "fa111eae-591d-4fca-aca6-db8bcc1ab254",
   "metadata": {
    "tags": []
   },
   "outputs": [],
   "source": [
    "%%dss\n",
    "plot scatter"
   ]
  },
  {
   "attachments": {},
   "cell_type": "markdown",
   "id": "3e77b9c2-8eed-46df-890f-8b649df0f2fb",
   "metadata": {
    "tags": []
   },
   "source": [
    "### Voltage profile"
   ]
  },
  {
   "cell_type": "code",
   "execution_count": null,
   "id": "33a5d18d-1ba8-40ed-bd9f-5141f947b230",
   "metadata": {
    "tags": []
   },
   "outputs": [],
   "source": [
    "%%dss\n",
    "redirect electricdss-tst/Version8/Distrib/EPRITestCircuits/ckt5/Master_ckt5.dss\n",
    "solve\n",
    "plot profile\n",
    "set loadmult=1.5\n",
    "solve\n",
    "plot profile\n",
    "plot profile phases=all"
   ]
  },
  {
   "attachments": {},
   "cell_type": "markdown",
   "id": "4fbe6f68-c1ca-466b-81ae-1992f640b3ac",
   "metadata": {
    "tags": []
   },
   "source": [
    "### Plotting general objects"
   ]
  },
  {
   "attachments": {},
   "cell_type": "markdown",
   "id": "7a9a89c1-3472-4739-a3de-1dfc03ccc792",
   "metadata": {},
   "source": [
    "Monitors, Loadshapes, TShapes, and PriceShapes can be plotted."
   ]
  },
  {
   "cell_type": "code",
   "execution_count": null,
   "id": "ce70ab8d-4ae8-4ef4-9de0-5464c672e0db",
   "metadata": {
    "tags": []
   },
   "outputs": [],
   "source": [
    "%%dss\n",
    "plot loadshape object=commercial_sm c1=red"
   ]
  },
  {
   "cell_type": "code",
   "execution_count": null,
   "id": "0fe9c9b6-dc5e-42f4-a61c-e318e1ec4e3a",
   "metadata": {
    "tags": []
   },
   "outputs": [],
   "source": [
    "%%dss\n",
    "new monitor.montest element=line.mdv201_connector\n",
    "batchedit load..* daily=commercial_sm\n",
    "solve mode=daily\n",
    "plot monitor object=montest"
   ]
  },
  {
   "attachments": {},
   "cell_type": "markdown",
   "id": "7069de34-ca21-4733-baf8-78321cdf5d07",
   "metadata": {},
   "source": [
    "### `DI_plot` and `YearlyCurves`commands"
   ]
  },
  {
   "attachments": {},
   "cell_type": "markdown",
   "id": "63e28e58-1247-4edb-a837-11cb526523c6",
   "metadata": {},
   "source": [
    "Note: some of these plot commands don't seem to work with modern versions of the official OpenDSS."
   ]
  },
  {
   "cell_type": "code",
   "execution_count": null,
   "id": "11f4e1c3-b599-415a-ad5a-48f91ad6e74f",
   "metadata": {
    "tags": []
   },
   "outputs": [],
   "source": [
    "# Let's disable plotting to suppress some of the output from the original script (Run_YearlySym.dss)\n",
    "dss.Plotting.disable()\n",
    "dss.AllowEditor = False"
   ]
  },
  {
   "cell_type": "code",
   "execution_count": null,
   "id": "e52c5f31-9972-4697-84a0-ea57e1ef714f",
   "metadata": {
    "tags": []
   },
   "outputs": [],
   "source": [
    "%%dss\n",
    "\n",
    "// the original script already runs a scenario\n",
    "redirect electricdss-tst/Version8/Distrib/IEEETestCases/123Bus/Run_YearlySim.dss\n",
    "\n",
    "// we need a second scenario to compare later\n",
    "Set CaseName=another\n",
    "batchedit load..*  yearly=default\n",
    "set mode=yearly number=720\n",
    "Set Year=1\n",
    "solve\n",
    "closedi"
   ]
  },
  {
   "cell_type": "code",
   "execution_count": null,
   "id": "4f2ca4c7-5038-422b-ae5e-d225b4d5835b",
   "metadata": {
    "tags": []
   },
   "outputs": [],
   "source": [
    "dss.Plotting.enable()"
   ]
  },
  {
   "cell_type": "code",
   "execution_count": null,
   "id": "28cea6ff-6bcc-4274-8d54-c74810095594",
   "metadata": {
    "tags": []
   },
   "outputs": [],
   "source": [
    "%%dss\n",
    "di_plot case=16Nov2011 registers=(9, 11) peak=y meter=DI_Totals\n",
    "di_plot case=16Nov2011 registers=(9, 11) peak=n meter=DI_Totals\n",
    "di_plot case=another registers=(9, 11) peak=n meter=DI_Totals\n",
    "YearlyCurves cases=(16Nov2011, another) registers=(9, 11) meter=Totals"
   ]
  },
  {
   "attachments": {},
   "cell_type": "markdown",
   "id": "a5424bda-2ed5-40dd-a0d7-3b28d38e0757",
   "metadata": {},
   "source": [
    "### Meter `Zone` plot"
   ]
  },
  {
   "cell_type": "code",
   "execution_count": null,
   "id": "35ec3ed1-180d-48f5-8575-1423772735ef",
   "metadata": {
    "tags": []
   },
   "outputs": [],
   "source": [
    "%%dss\n",
    "Plot type=zone object=feeder quantity=power max=2000"
   ]
  },
  {
   "attachments": {},
   "cell_type": "markdown",
   "id": "69310ed9-00ca-46e2-a9ad-8e1ce45ee4e3",
   "metadata": {},
   "source": [
    "### Matrix plots"
   ]
  },
  {
   "cell_type": "code",
   "execution_count": null,
   "id": "0b85f671-456e-41b8-9054-23bbd60dd137",
   "metadata": {
    "tags": []
   },
   "outputs": [],
   "source": [
    "%%dss\n",
    "calcincmatrix\n",
    "plot matrix incidence"
   ]
  },
  {
   "cell_type": "code",
   "execution_count": null,
   "id": "6f530116-8c7b-411e-8482-287042339f67",
   "metadata": {
    "tags": []
   },
   "outputs": [],
   "source": [
    "%%dss\n",
    "calclaplacian\n",
    "plot matrix laplacian"
   ]
  },
  {
   "attachments": {},
   "cell_type": "markdown",
   "id": "861d1a29-ad34-486f-92b6-22f43429a6d2",
   "metadata": {
    "tags": []
   },
   "source": [
    "If you wish to plot the Y matrix directly, you can use the sparse version and matplotlib's `spy`. For another alternative, see https://github.com/nschloe/betterspy"
   ]
  },
  {
   "cell_type": "code",
   "execution_count": null,
   "id": "5626a839-d8cc-4690-a846-fd341f9941cd",
   "metadata": {
    "tags": []
   },
   "outputs": [],
   "source": [
    "from matplotlib import pyplot as plt\n",
    "from scipy.sparse import csc_matrix\n",
    "Y = csc_matrix(dss.YMatrix.GetCompressedYMatrix())\n",
    "plt.spy(Y, ms=1)"
   ]
  },
  {
   "attachments": {},
   "cell_type": "markdown",
   "id": "bb422410-172e-4c14-a323-ffcf23fe4576",
   "metadata": {
    "tags": []
   },
   "source": [
    "## 3D plots\n",
    "\n",
    "Some plots also have 3D implementations similar to the ones available in OpenDSS Viewer (previously known as \"OpenDSS Visualization Tool\"). \n",
    "\n",
    "You can enable both 2D and 3D plots where available:"
   ]
  },
  {
   "cell_type": "code",
   "execution_count": null,
   "id": "d9ca0d8b-2d2b-4404-952f-bb5ebba1dbee",
   "metadata": {
    "tags": []
   },
   "outputs": [],
   "source": [
    "dss.Plotting.enable(plot3d=True, plot2d=True)\n",
    "dss.Text.Command = 'plot profile'"
   ]
  },
  {
   "attachments": {},
   "cell_type": "markdown",
   "id": "8bb6ccd8-200f-4144-b28f-c7809076db39",
   "metadata": {},
   "source": [
    "Or just the 3D plots:"
   ]
  },
  {
   "cell_type": "code",
   "execution_count": null,
   "id": "da4e4b5e-f246-475f-ae08-1bfa2ae7b025",
   "metadata": {
    "tags": []
   },
   "outputs": [],
   "source": [
    "dss.Plotting.enable(plot3d=True, plot2d=False)"
   ]
  },
  {
   "cell_type": "code",
   "execution_count": null,
   "id": "3cdd1b17-1567-41ec-b613-947580e30823",
   "metadata": {
    "tags": []
   },
   "outputs": [],
   "source": [
    "%%dss\n",
    "plot profile"
   ]
  },
  {
   "cell_type": "code",
   "execution_count": null,
   "id": "db6ceab6-b3f7-4756-a5a1-562fe96820e6",
   "metadata": {
    "tags": []
   },
   "outputs": [],
   "source": [
    "%%dss\n",
    "calcincmatrix\n",
    "plot matrix incidence"
   ]
  },
  {
   "cell_type": "code",
   "execution_count": null,
   "id": "9e1a6e3c-3a39-4cf5-bcaf-a26a4896d18a",
   "metadata": {
    "tags": []
   },
   "outputs": [],
   "source": [
    "%%dss\n",
    "calclaplacian\n",
    "plot matrix laplacian"
   ]
  },
  {
   "cell_type": "code",
   "execution_count": null,
   "id": "968ef8a2-7d1a-4cba-a9a9-0d7ef4510244",
   "metadata": {
    "tags": []
   },
   "outputs": [],
   "source": [
    "%%dss\n",
    "plot scatter"
   ]
  },
  {
   "attachments": {},
   "cell_type": "markdown",
   "id": "66a18b5d-1230-4b8c-a3af-316c984ff36e",
   "metadata": {
    "tags": []
   },
   "source": [
    "## Notebook integration: text/CSV file outputs\n",
    "\n",
    "Text outputs that would normally open in the editor are linked in the notebook instead. This allows the user to run a long script and then inspect the outputs more easily.\n",
    "\n",
    "We usually recommend using the `export` command instead of the `show` command since JupyterLab includes a CSV viewer. Disabling `AllowEditor` silences this output message on the notebook."
   ]
  },
  {
   "cell_type": "code",
   "execution_count": null,
   "id": "37d609d0-b8ca-4ce3-a725-4617a82ce671",
   "metadata": {
    "tags": []
   },
   "outputs": [],
   "source": [
    "dss.AllowEditor = True"
   ]
  },
  {
   "cell_type": "code",
   "execution_count": null,
   "id": "248e3d10-74ff-45c7-9ac2-89992d9a95d5",
   "metadata": {
    "tags": []
   },
   "outputs": [],
   "source": [
    "%%dss\n",
    "redirect electricdss-tst/Version8/Distrib/IEEETestCases/13Bus/IEEE13Nodeckt.dss\n",
    "set showexport=true\n",
    "export voltages"
   ]
  },
  {
   "cell_type": "code",
   "execution_count": null,
   "id": "65a92c64-b6e3-4e46-8f29-8598c780d6ef",
   "metadata": {
    "tags": []
   },
   "outputs": [],
   "source": [
    "dss.AllowEditor = False"
   ]
  },
  {
   "cell_type": "code",
   "execution_count": null,
   "id": "cb52ed44-c6f4-4a82-b79e-82fcebfbe539",
   "metadata": {
    "tags": []
   },
   "outputs": [],
   "source": [
    "%%dss\n",
    "export voltages"
   ]
  },
  {
   "attachments": {},
   "cell_type": "markdown",
   "id": "04793094-1ffe-439e-bedd-c36c8e85bead",
   "metadata": {
    "tags": []
   },
   "source": [
    "## Following `epri_dpv\\DOE Tutorial.pdf`"
   ]
  },
  {
   "attachments": {},
   "cell_type": "markdown",
   "id": "93a6d50a-1207-4d12-a5e8-6ef714e84d2a",
   "metadata": {
    "tags": []
   },
   "source": [
    "For context, see [`EPRITestCircuits\\epri_dpv\\DOE Tutorial.pdf`](https://sourceforge.net/p/electricdss/code/HEAD/tree/trunk/Version8/Distrib/EPRITestCircuits/epri_dpv/DOE%20Tutorial.pdf?format=raw). \n",
    "\n",
    "Note that some outputs changed since the original files are from 2013 and there have been changes on OpenDSS defaults and in the PVSystem model (the DSS files may have been updated too). The results presented here match the current OpenDSS release.\n",
    "\n",
    "Used here:\n",
    "- circuit plots\n",
    "- voltage profile plots\n",
    "- daisy plot\n",
    "- general data plot\n",
    "- monitor plot"
   ]
  },
  {
   "cell_type": "code",
   "execution_count": null,
   "id": "8649fe0a-7698-47ea-9790-4ed67acb7722",
   "metadata": {
    "tags": []
   },
   "outputs": [],
   "source": [
    "from dss import dss\n",
    "dss.Plotting.enable()"
   ]
  },
  {
   "cell_type": "code",
   "execution_count": null,
   "id": "3c7ca325-e186-42a1-a32d-3ed88eb1bd4e",
   "metadata": {
    "tags": []
   },
   "outputs": [],
   "source": [
    "%%dss\n",
    "cd electricdss-tst/Version8/Distrib/EPRITestCircuits/epri_dpv/J1/\n",
    "redirect \"Master_noPV.dss\"\n",
    "solve"
   ]
  },
  {
   "attachments": {},
   "cell_type": "markdown",
   "id": "6d28135b-3980-472d-a044-8eca6b586716",
   "metadata": {},
   "source": [
    "Plot Circuit Power flow"
   ]
  },
  {
   "cell_type": "code",
   "execution_count": null,
   "id": "e011bbe1-b87a-4241-9942-51209271595c",
   "metadata": {
    "tags": []
   },
   "outputs": [],
   "source": [
    "%%dss\n",
    "set markercode=24\n",
    "set markregulators=yes\n",
    "plot circuit power 1ph=3"
   ]
  },
  {
   "attachments": {},
   "cell_type": "markdown",
   "id": "b02a5383-325b-480c-b2fc-d83c2abf741c",
   "metadata": {},
   "source": [
    "Plot voltages"
   ]
  },
  {
   "cell_type": "code",
   "execution_count": null,
   "id": "4ad79cf0-b00d-48cb-8b47-659314883e2a",
   "metadata": {
    "tags": []
   },
   "outputs": [],
   "source": [
    "%%dss\n",
    "set emergvminpu=1.0\n",
    "set normvminpu=1.035\n",
    "plot circuit voltage"
   ]
  },
  {
   "attachments": {},
   "cell_type": "markdown",
   "id": "c44a508d-7ac1-4689-9d0f-68897927c510",
   "metadata": {
    "tags": []
   },
   "source": [
    "Plot profile"
   ]
  },
  {
   "cell_type": "code",
   "execution_count": null,
   "id": "5af47794-4f38-4e52-85cc-aa48019a4b45",
   "metadata": {
    "tags": []
   },
   "outputs": [],
   "source": [
    "%%dss\n",
    "set normvminpu=0.95\n",
    "plot profile phases = primary\n",
    "plot profile phases = all"
   ]
  },
  {
   "attachments": {},
   "cell_type": "markdown",
   "id": "851fa4d9-ea6c-465f-bb81-f561c4a499ca",
   "metadata": {},
   "source": [
    "Minimum load case (approximate)"
   ]
  },
  {
   "cell_type": "code",
   "execution_count": null,
   "id": "b280509a-2ad4-4b03-8509-7fe425b2f255",
   "metadata": {
    "tags": []
   },
   "outputs": [],
   "source": [
    "%%dss\n",
    "set emergvminpu=1.0\n",
    "set normvminpu=1.035\n",
    "set loadmult=.1\n",
    "solve\n",
    "plot profile phases = all"
   ]
  },
  {
   "attachments": {},
   "cell_type": "markdown",
   "id": "f88408ca-1980-432d-b619-5113fcca07f8",
   "metadata": {},
   "source": [
    "Add PV to Circuit Model"
   ]
  },
  {
   "cell_type": "code",
   "execution_count": null,
   "id": "8ee2633d-35e9-49aa-8503-228c340e8327",
   "metadata": {
    "tags": []
   },
   "outputs": [],
   "source": [
    "%%dss\n",
    "clear\n",
    "redirect Master_noPV.dss\n",
    "solve\n",
    "\n",
    "Redirect ExistingPV.dss\n",
    "Set DaisySize=2.5\n",
    "set markregulators=yes\n",
    "plot daisy power max=2000 dots=y buslist=(file=PVbuses.txt)\n",
    "\n",
    "solve\n",
    "plot profile phases=all"
   ]
  },
  {
   "attachments": {},
   "cell_type": "markdown",
   "id": "220da516-05d0-435b-bc29-2687335e0f6f",
   "metadata": {},
   "source": [
    "Compare saved voltages to current case solved"
   ]
  },
  {
   "cell_type": "code",
   "execution_count": null,
   "id": "610aedc5-9f8e-48ba-a365-e9a4f6deb200",
   "metadata": {
    "tags": []
   },
   "outputs": [],
   "source": [
    "%%dss\n",
    "redirect \"Master_noPV.dss\"\n",
    "solve\n",
    "save voltages\n",
    "Redirect ExistingPV.dss\n",
    "\n",
    "! Disable all controls\n",
    "set controlmode=off\n",
    "solve\n",
    "plot profile phases=all\n",
    "\n",
    "vdiff ! creates voltage difference file\n",
    "set markercode=24 nodewidth=2.5\n",
    "\n",
    "! Plot difference in voltage between no-PV and with-PV cases\n",
    "plot general quantity=1 max=3.5 min=0.0 C1=$0000FFFF C2=$000000FF dots=y labels=n object=electricdss-tst/Version8/Distrib/EPRITestCircuits/epri_dpv/J1/J1_VDIFF.txt"
   ]
  },
  {
   "attachments": {},
   "cell_type": "markdown",
   "id": "2bf1cbb1-a875-4c65-80f1-48ec6b959138",
   "metadata": {
    "tags": []
   },
   "source": [
    "Run time series analysis"
   ]
  },
  {
   "cell_type": "code",
   "execution_count": null,
   "id": "19f9ede9-cbb4-49b4-b56b-e1234fa1809b",
   "metadata": {
    "tags": []
   },
   "outputs": [],
   "source": [
    "%%dss\n",
    "compile Master_noPV.dss\n",
    "Redirect ExistingPV.dss\n",
    "solve\n",
    "\n",
    "new loadshape.mypv npts=1800 sinterval=1 csvfile=StrwPlns1sec30min.csv\n",
    "new monitor.PVSite4VI element=PVSystem.3P_ExistingSite4 terminal=1 mode=0\n",
    "new monitor.PVSite4PQ element=Line.Site4_PV terminal=2 mode=65 ppolar=no\n",
    "\n",
    "! Assign same PV curve to all PV systems (single curve used for demo only)\n",
    "batchedit pvsystem..* daily=mypv\n",
    "\n",
    "solve mode=daily stepsize=1s number=1800\n",
    "\n",
    "batchedit pvsystem..* pf=-0.98\n",
    "\n",
    "! Plotting\n",
    "plot monitor object=pvsite4vi channels=(1 )\n",
    "plot monitor object=pvsite4pq channels=(1 )"
   ]
  },
  {
   "attachments": {},
   "cell_type": "markdown",
   "id": "681b4581-691c-4de7-ab8b-054dd51c0066",
   "metadata": {},
   "source": [
    "Restore the current dir in the DSS engine"
   ]
  },
  {
   "cell_type": "code",
   "execution_count": null,
   "id": "3d22e9c9-2692-458d-b848-0e5d7e1fd50b",
   "metadata": {
    "tags": []
   },
   "outputs": [],
   "source": [
    "%%dss\n",
    "cd ../../../../../.."
   ]
  },
  {
   "attachments": {},
   "cell_type": "markdown",
   "id": "c2ee4861-e69e-411b-9f04-2db05dcd40d3",
   "metadata": {
    "tags": []
   },
   "source": [
    "## Running the IEEE123 sample script\n",
    "\n",
    "This is one of the OpenDSS sample scripts. We invite users to run the same files on the official OpenDSS to compare and validate the output here.\n",
    "For file outputs, note that if the circuit or casename are not changed, the previous files are overwritten (just like in the official OpenDSS). \n",
    "We could modify the script to address that, but let's focus on the plots for now. A future release may handle reports better.\n",
    "\n",
    "If you wish to inspect the scripts, uncomment the contents of the following cell:"
   ]
  },
  {
   "cell_type": "code",
   "execution_count": null,
   "id": "0d93407e-8dac-41f2-a0b8-c997281db7b2",
   "metadata": {
    "tags": []
   },
   "outputs": [],
   "source": [
    "# from pathlib import Path\n",
    "# print(Path('./electricdss-tst/Version8/Distrib/IEEETestCases/123Bus/Run_IEEE123Bus.DSS').read_text())\n",
    "# print(Path('./electricdss-tst/Version8/Distrib/IEEETestCases/123Bus/CircuitPlottingScripts.dss').read_text())"
   ]
  },
  {
   "cell_type": "code",
   "execution_count": null,
   "id": "6f33891f-e230-4a3e-934c-aa4dd9eadd65",
   "metadata": {
    "tags": []
   },
   "outputs": [],
   "source": [
    "%%dss\n",
    "redirect ./electricdss-tst/Version8/Distrib/IEEETestCases/123Bus/Run_IEEE123Bus.DSS\n",
    "redirect ./electricdss-tst/Version8/Distrib/IEEETestCases/123Bus/CircuitPlottingScripts.dss"
   ]
  },
  {
   "attachments": {},
   "cell_type": "markdown",
   "id": "d228c039-91a2-4147-8d4c-07604fd51edb",
   "metadata": {
    "tags": []
   },
   "source": [
    "## Saving the outputs\n",
    "\n",
    "Currently we don't provide a way to autosave the outputs, especially since a notebook already comprises the basics of that functionality.\n",
    "\n",
    "If you think autosaving to separate files would be good for users in general, please voice your opinion by opening an issue at https://github.com/dss-extensions/dss_python \n",
    "\n",
    "On a notebook, to manually save, you can disable the auto-show option. This will keep the figures open so you can interact with them before discarding the results. You will note that the figures are still automatically shown, but the output order may change (that's why we don't use `show=False` as a default)."
   ]
  },
  {
   "cell_type": "code",
   "execution_count": null,
   "id": "a5959711-96d5-488b-9fff-775c76713814",
   "metadata": {
    "tags": []
   },
   "outputs": [],
   "source": [
    "from matplotlib import pyplot as plt\n",
    "\n",
    "dss.Plotting.enable(show=False)\n",
    "dss.Text.Command = 'plot circuit'\n",
    "plt.savefig('circuit.svg')\n",
    "dss.Plotting.enable(show=True)"
   ]
  },
  {
   "attachments": {},
   "cell_type": "markdown",
   "id": "e624d5d9-be13-4e8b-9c75-895498ba837c",
   "metadata": {
    "tags": []
   },
   "source": [
    "## Customizing the figures\n",
    "\n",
    "The output can be customized in many ways:\n",
    "\n",
    "- Exporting to third-party software (e.g. use Inkscape to complement SVG files)\n",
    "- Through the DSS commands: enabling and choosing markers, colors, etc.\n",
    "- Through matplotlib's general options: see https://matplotlib.org/stable/tutorials/introductory/customizing.html -- you can set default fonts, sizes, and various other aspects of the figures.\n",
    "- Through matplotlib's API: adding custom elements to the intermediate output"
   ]
  },
  {
   "attachments": {},
   "cell_type": "markdown",
   "id": "6c6753ef-3113-4047-a378-4e5270d085bb",
   "metadata": {},
   "source": [
    "### Applying matplotlib styles\n",
    "\n",
    "Here's a short example of using different matplotlib styles. See also https://matplotlib.org/stable/gallery/style_sheets/style_sheets_reference.html"
   ]
  },
  {
   "cell_type": "code",
   "execution_count": null,
   "id": "2d615ae0-e6b5-442c-b247-af022dac3157",
   "metadata": {
    "tags": []
   },
   "outputs": [],
   "source": [
    "from matplotlib import pyplot as plt\n",
    "from dss import dss\n",
    "\n",
    "dss.Plotting.enable(show=False)\n",
    "dss.Text.Command = 'redirect electricdss-tst/Version8/Distrib/EPRITestCircuits/ckt5/Run_ckt5.dss'\n",
    "dss.ActiveCircuit.Solution.Solve()\n",
    "\n",
    "with plt.style.context('dark_background'):\n",
    "    dss.Text.Command = 'plot circuit c1=lime'\n",
    "    \n",
    "with plt.style.context('Solarize_Light2'):\n",
    "    dss.Text.Command = 'plot circuit c1=red'"
   ]
  },
  {
   "attachments": {},
   "cell_type": "markdown",
   "id": "9de41b4c-2543-401c-9d5d-499a492c68f0",
   "metadata": {},
   "source": [
    "For more styles, install SciencePlots (available through conda or pip): https://github.com/garrettj403/SciencePlots"
   ]
  },
  {
   "cell_type": "code",
   "execution_count": null,
   "id": "3c40f40b-4cf9-41b2-b682-684c9919a031",
   "metadata": {
    "tags": []
   },
   "outputs": [],
   "source": [
    "try:\n",
    "    import scienceplots\n",
    "    with plt.style.context('science'):\n",
    "        dss.Text.Command = 'plot circuit c1=red'\n",
    "except:\n",
    "    # let's ignore if the user didn´t install SciencePlots\n",
    "    pass"
   ]
  },
  {
   "attachments": {},
   "cell_type": "markdown",
   "id": "43a6d4d4-6b89-44ba-ace3-f8a6cbe47ee1",
   "metadata": {
    "tags": []
   },
   "source": [
    "### Customizing using matplotlib's API\n",
    "\n",
    "As in the previous example for saving the figure, we will disable auto-show so we can interact with the figures, and then add some extra elements."
   ]
  },
  {
   "cell_type": "code",
   "execution_count": null,
   "id": "bdc19856-6d80-4b6d-a97c-3db1f1ee8b8b",
   "metadata": {
    "tags": []
   },
   "outputs": [],
   "source": [
    "from matplotlib import pyplot as plt\n",
    "from dss import dss\n",
    "\n",
    "dss.Plotting.enable(show=False)\n",
    "\n",
    "# We'll use the EPRI ckt5 test circuit here\n",
    "dss.Text.Command = 'redirect electricdss-tst/Version8/Distrib/EPRITestCircuits/ckt5/Run_ckt5.dss'\n",
    "\n",
    "# Select a bus\n",
    "name = '820'\n",
    "bus = dss.ActiveCircuit.Buses[name]\n",
    "x, y = bus.x, bus.y\n",
    "print('Selected bus:', name)"
   ]
  },
  {
   "attachments": {},
   "cell_type": "markdown",
   "id": "a1ccf947-fee3-4c6b-a76c-d92f97ec833d",
   "metadata": {},
   "source": [
    "As a reminder, if you just need to add a marker quickly, you could just use a simple bus marker:"
   ]
  },
  {
   "cell_type": "code",
   "execution_count": null,
   "id": "75b94db4-f48a-4df5-9c6a-9e5cb43108d2",
   "metadata": {
    "tags": []
   },
   "outputs": [],
   "source": [
    "dss.Text.Command = 'ClearBusMarkers' # remove the previous marker\n",
    "dss.Text.Command = f'AddBusMarker Bus={name} code=24 color=red size=5'\n",
    "dss.Text.Command = 'plot circuit c1=$555555'"
   ]
  },
  {
   "attachments": {},
   "cell_type": "markdown",
   "id": "c258d002-17f4-4660-991e-7fb396e1c0cb",
   "metadata": {
    "tags": []
   },
   "source": [
    "Alternatively, let's customize the output to add a marker and some tiny histograms."
   ]
  },
  {
   "cell_type": "code",
   "execution_count": null,
   "id": "df28ac28-846f-4eac-98be-b0f85fafc231",
   "metadata": {
    "tags": []
   },
   "outputs": [],
   "source": [
    "dss.Text.Command = 'ClearBusMarkers' # remove the previous marker\n",
    "dss.Text.Command = 'plot circuit c1=$555555'\n",
    "        \n",
    "# Point to the select bus\n",
    "plt.annotate(f\"Something here\\n({name})\", (x,  y), xytext=(x - 4000, y + 1000), arrowprops=dict(fc='lightblue'), fontsize='larger', ha='center', color='darkred')\n",
    "plt.plot(x, y, 'o', color='red', ms=25, zorder=-10, alpha=0.5)\n",
    "\n",
    "# Show grid, hide the axis (spines and labels)\n",
    "plt.grid(alpha=0.5)\n",
    "plt.tick_params(labelleft=False, left=False, bottom=False, labelbottom=False)\n",
    "\n",
    "# Change the title and remove labels\n",
    "plt.title('CKT5 plot: customized through matplotlib')\n",
    "plt.xlabel('')\n",
    "plt.ylabel('')\n",
    "\n",
    "# Add a few voltage histograms, one per phase\n",
    "for ph in (1, 2, 3):\n",
    "    ax = plt.gca().inset_axes([0.02, 0.7 - 0.3 * (ph - 1), 0.2, 0.15])\n",
    "    ax.set_facecolor('lightgray')\n",
    "    ax.hist(dss.ActiveCircuit.AllNodeVmagPUByPhase(ph), bins=20)\n",
    "    ax.tick_params(labelleft=False, left=False, bottom=False, labelbottom=False)\n",
    "    ax.axvline(dss.ActiveCircuit.Settings.NormVmaxpu, color='orange', ls=':')\n",
    "    ax.axvline(dss.ActiveCircuit.Settings.NormVminpu, color='orange', ls=':')\n",
    "    ax.axvline(dss.ActiveCircuit.Settings.EmergVminpu, color='r', ls=':')\n",
    "    ax.axvline(dss.ActiveCircuit.Settings.EmergVmaxpu, color='r', ls=':')\n",
    "    ph_name = 'ABC'[ph - 1]\n",
    "    ax.set_title(f'Phase {ph_name}')"
   ]
  },
  {
   "cell_type": "code",
   "execution_count": null,
   "id": "0960c021-bc57-49df-a1bc-f66d9058e048",
   "metadata": {
    "tags": []
   },
   "outputs": [],
   "source": [
    "# Toggle auto-showing back\n",
    "dss.Plotting.enable(show=True)"
   ]
  }
 ],
 "metadata": {
  "kernelspec": {
   "display_name": "Python 3 (ipykernel)",
   "language": "python",
   "name": "python3"
  },
  "language_info": {
   "codemirror_mode": {
    "name": "ipython",
    "version": 3
   },
   "file_extension": ".py",
   "mimetype": "text/x-python",
   "name": "python",
   "nbconvert_exporter": "python",
   "pygments_lexer": "ipython3",
   "version": "3.10.10"
  }
 },
 "nbformat": 4,
 "nbformat_minor": 5
}
